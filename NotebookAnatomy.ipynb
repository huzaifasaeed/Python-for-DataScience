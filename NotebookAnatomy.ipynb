{
 "cells": [
  {
   "cell_type": "markdown",
   "metadata": {},
   "source": [
    "# Basic Anatomy of a Notebook and General Guide\n",
    "* Note this notebook was created in python 3, but should be version agnostic"
   ]
  },
  {
   "cell_type": "code",
   "execution_count": null,
   "metadata": {
    "collapsed": true
   },
   "outputs": [],
   "source": [
    "# Import compatibility libraries (python 2/3 support)\n",
    "from __future__ import absolute_import\n",
    "from __future__ import division\n",
    "from __future__ import print_function\n",
    "from __future__ import unicode_literals"
   ]
  },
  {
   "cell_type": "markdown",
   "metadata": {},
   "source": [
    "### Disclaimers:\n",
    "1.  Notebooks are no substitute for an IDE for developing apps.\n",
    "*  Notebooks are not suitable for debugging code (yet).\n",
    "*  They are no substitute for publication quality publishing, however they are very useful for interactive blogging\n",
    "*  My <b>main</b> use of notebooks are for interactive teaching mostly and as a playground for some code that I might like to share at some point (I can add useful and pretty markup text, pics, videos, etc).\n",
    "*  I'm a fan also because github render's ipynb files nicely."
   ]
  },
  {
   "cell_type": "markdown",
   "metadata": {},
   "source": [
    "### Welcome to Jupyter!  Here are a few notebook notes\n",
    "<br>\n",
    "<b>This is a little diagram of the anatomy of the notebook toolbar:</b><br>\n",
    "<img src='https://raw.githubusercontent.com/michhar/python-jupyter-notebooks/master/general/nb_diagram.png' alt=\"Smiley face\" align=\"center\">"
   ]
  },
  {
   "cell_type": "markdown",
   "metadata": {},
   "source": [
    "## Shortcuts!\n",
    "* A complete list is [here](https://sowingseasons.com/blog/reference/2016/01/jupyter-keyboard-shortcuts/23298516), but these are my favorites.  There is a *command* mode and *edit* mode much like the unix editor `vi/vim`.  `Esc` will take you into command mode.  `Enter` (when a cell is highlighted) will take you into edit mode.\n",
    "\n",
    "Mode  |  What  | Shortcut\n",
    "------------- | ------------- | -------------\n",
    "Command (Press `Esc` to enter)  | Run cell | Shift-Enter\n",
    "Command  | Add cell below | B\n",
    "Command | Add cell above | A\n",
    "Command | Delete a cell | d-d\n",
    "Command | Go into edit mode | Enter\n",
    "Edit (Press `Enter` to enable) | Run cell | Shift-Enter\n",
    "Edit | Indent | Clrl-]\n",
    "Edit | Unindent | Ctrl-[\n",
    "Edit | Comment section | Ctrl-/\n",
    "Edit | Function introspection | Shift-Tab\n",
    "\n",
    "**You can also left-double-click with the mouse to \"Enter\" a markdown cell for modifying text**\n",
    "\n",
    "Try some below"
   ]
  },
  {
   "cell_type": "code",
   "execution_count": null,
   "metadata": {
    "collapsed": true
   },
   "outputs": [],
   "source": [
    "# This is a comment\n",
    "\n",
    "print('this line is python code')\n",
    "\n",
    "# Hit Shift+Enter at same time as a shortcut to run this cell"
   ]
  },
  {
   "cell_type": "markdown",
   "metadata": {},
   "source": [
    "## Markdown!\n",
    "**OK, change the next cell to code and then back to markdown using shortcuts above**\n",
    "\n",
    "**If you are unfamiliar with markdown syntax this is a good cell to study (Enter to see the raw markdown and Shift-Enter to run it or see final product)**"
   ]
  },
  {
   "cell_type": "markdown",
   "metadata": {},
   "source": [
    "\n",
    "# This will be Heading1\n",
    "1. first thing\n",
    "* second thing\n",
    "* third thing\n",
    "\n",
    "A horizontal rule:\n",
    "\n",
    "---\n",
    "> Indented text\n",
    "\n",
    "Code snippet:\n",
    "\n",
    "```python\n",
    "import numpy as np\n",
    "a2d = np.random.randn(100).reshape(10, 10)\n",
    "```\n",
    "\n",
    "LaTeX inline equation:\n",
    "\n",
    "$\\Delta =\\sum_{i=1}^N w_i (x_i - \\bar{x})^2$\n",
    "\n",
    "LaTeX table:\n",
    "\n",
    "First Header  | Second Header\n",
    "------------- | -------------\n",
    "Content Cell  | Content Cell\n",
    "Content Cell  | Content Cell\n",
    "\n",
    "HTML:\n",
    "\n",
    "<img src='http://www.elm.org/wp-content/uploads/2014/05/gold-star.jpg' alt=\"You get a gold star\" width=\"42\" height=\"42\" align=\"left\">"
   ]
  },
  {
   "cell_type": "code",
   "execution_count": null,
   "metadata": {
    "collapsed": true
   },
   "outputs": [],
   "source": []
  },
  {
   "cell_type": "markdown",
   "metadata": {},
   "source": [
    "### As you can see on your jupyter homepage, you can open up any notebook\n",
    "\n",
    "<b>NB: You can return to the homepage by clicking the Jupyter icon in the very upper left corner at any time</b>\n",
    "\n",
    "### You can also Upload a notebook (button on upper right)\n",
    "\n",
    "\n",
    "![Upload button](http://www.ciser.cornell.edu/data_wrangling/python_intro/images/JupyterUpload.gif)\n",
    "\n",
    "\n",
    "### As well as start a new notebook with a specific kernel (button to the right of Upload)\n",
    "\n",
    "\n",
    "![New menu](https://www.ibm.com/developerworks/community/blogs/jfp/resource/BLOGS_UPLOADED_IMAGES/irkernel48.png)\n",
    "\n",
    "> So, what's that number after `In` or `Out`?  That's the order of running this cell relative to other cells (useful for keeping track of what order cells have been run).  When you save this notebook that number along with any output shown will also be saved.  To <b>reset</b> a notebook go to Cell -> All Output -> Clear and then Save it.\n",
    "\n",
    "You can do something like this to render a publicly available notebook on github statically (this I do as a backup for presentations and course stuff):\n",
    "\n",
    "```\n",
    "http://nbviewer.jupyter.org/github/<username>/<repo name>/blob/master/<notebook name>.ipynb\n",
    "```\n",
    "like:<br>\n",
    "http://nbviewer.jupyter.org/github/michhar/rpy2_sample_notebooks/blob/master/TestingRpy2.ipynb\n",
    "\n",
    "<br>\n",
    "Also, you can upload, consume existing notebooks or start a new <b>interactive</b> one for free by going here (Microsoft's free notebook service):<br>\n",
    "https://notebooks.azure.com/\n",
    "<br>\n",
    "\n",
    "<br><br>\n",
    "Also, notebook service available in Azure Machine Learning Studio (free and all you need is MS live ID/Account).  Go [here](https://studio.azureml.net/)\n",
    "\n",
    "> The nifty thing about Jupyter notebooks (and the .ipynb files which you can download and upload) is that you can share these.  They are just written in JSON language.  I put them up in places like GitHub and point people in that direction.  \n",
    "\n",
    "> Some people (like [this guy](http://www.r-bloggers.com/why-i-dont-like-jupyter-fka-ipython-notebook/) who misses the point I think) really dislike notebooks, but they are really good for what they are good at - sharing code ideas plus neat notes and stuff in dev, teaching interactively, even chaining languages together in a polyglot style.  And doing all of this on github works really well (as long as you remember to always clear your output before checking in - version control can get a bit crazy otherwise).\n",
    "\n",
    "### Some additional features\n",
    "* tab completion\n",
    "* function introspection\n",
    "* help"
   ]
  },
  {
   "cell_type": "code",
   "execution_count": null,
   "metadata": {
    "collapsed": true
   },
   "outputs": [],
   "source": [
    "?sum()"
   ]
  },
  {
   "cell_type": "code",
   "execution_count": null,
   "metadata": {
    "collapsed": false
   },
   "outputs": [],
   "source": [
    "import json\n",
    "?json"
   ]
  },
  {
   "cell_type": "code",
   "execution_count": null,
   "metadata": {
    "collapsed": false
   },
   "outputs": [],
   "source": [
    "import json\n",
    "\n",
    "# place cursor in parentheses and hit Shift-Tab and see what happens\n",
    "json.loads()"
   ]
  },
  {
   "cell_type": "markdown",
   "metadata": {
    "collapsed": true
   },
   "source": [
    "The MIT License (MIT)<br>\n",
    "Copyright (c) 2016"
   ]
  },
  {
   "cell_type": "code",
   "execution_count": null,
   "metadata": {
    "collapsed": true
   },
   "outputs": [],
   "source": []
  }
 ],
 "metadata": {
  "kernelspec": {
   "display_name": "Python 3",
   "language": "python",
   "name": "python3"
  },
  "language_info": {
   "codemirror_mode": {
    "name": "ipython",
    "version": 3
   },
   "file_extension": ".py",
   "mimetype": "text/x-python",
   "name": "python",
   "nbconvert_exporter": "python",
   "pygments_lexer": "ipython3",
   "version": "3.5.1"
  }
 },
 "nbformat": 4,
 "nbformat_minor": 0
}
